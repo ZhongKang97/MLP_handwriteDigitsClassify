{
 "cells": [
  {
   "cell_type": "code",
   "execution_count": 1,
   "metadata": {},
   "outputs": [
    {
     "name": "stderr",
     "output_type": "stream",
     "text": [
      "Using TensorFlow backend.\n"
     ]
    }
   ],
   "source": [
    "import keras\n",
    "from keras.datasets import mnist\n",
    "import matplotlib.pyplot as plt\n",
    "%matplotlib inline"
   ]
  },
  {
   "cell_type": "code",
   "execution_count": 2,
   "metadata": {},
   "outputs": [
    {
     "name": "stdout",
     "output_type": "stream",
     "text": [
      "(60000, 28, 28) (60000,)\n"
     ]
    },
    {
     "data": {
      "text/plain": [
       "array([0, 1, 2, 3, 4, 5, 6, 7, 8, 9], dtype=uint8)"
      ]
     },
     "execution_count": 2,
     "metadata": {},
     "output_type": "execute_result"
    }
   ],
   "source": [
    "(X_train,Y_train),(X_test,Y_test)=mnist.load_data()\n",
    "print(X_train.shape,Y_train.shape)\n",
    "import numpy as np\n",
    "np.unique(Y_train)"
   ]
  },
  {
   "cell_type": "code",
   "execution_count": 3,
   "metadata": {},
   "outputs": [
    {
     "data": {
      "image/png": "[encoded data removed]",
      "text/plain": [
       "<Figure size 432x288 with 10 Axes>"
      ]
     },
     "metadata": {
      "needs_background": "light"
     },
     "output_type": "display_data"
    }
   ],
   "source": [
    "#显示实例图像\n",
    "for i in range(10):\n",
    "    plt.subplot(2,5,i+1)\n",
    "    plt.imshow(X_train[i,:,:],cmap='gray')\n",
    "    plt.axis('off')"
   ]
  },
  {
   "cell_type": "code",
   "execution_count": 4,
   "metadata": {},
   "outputs": [],
   "source": [
    "img_rows,img_cols=28,28\n",
    "X_train=X_train.reshape(X_train.shape[0],img_rows,img_cols,1)\n",
    "X_test=X_test.reshape(X_test.shape[0],img_rows,img_cols,1)\n",
    "input_shape=(img_rows,img_cols,1)\n",
    "X_train=X_train.astype('float32')/255.0\n",
    "X_test=X_test.astype('float32')/255.0"
   ]
  },
  {
   "cell_type": "code",
   "execution_count": 5,
   "metadata": {},
   "outputs": [],
   "source": [
    "#one_hot_encoding\n",
    "from keras.utils import np_utils\n",
    "n_classes=10\n",
    "y_train=np_utils.to_categorical(Y_train,n_classes)\n",
    "y_test=np_utils.to_categorical(Y_test,n_classes)"
   ]
  },
  {
   "cell_type": "code",
   "execution_count": 14,
   "metadata": {},
   "outputs": [],
   "source": [
    "from keras.layers import Dense\n",
    "from keras.models import Sequential\n",
    "from keras.layers import Activation\n",
    "from keras.layers import MaxPool2D,Dropout,Flatten\n",
    "model=Sequential()\n",
    "model.add(Dense(32,input_shape=input_shape))\n",
    "model.add(Activation('relu'))\n",
    "model.add(Dense(32))\n",
    "model.add(Activation('relu'))\n",
    "model.add(Dense(32))\n",
    "model.add(Activation('relu'))\n",
    "model.add(Dense(32))\n",
    "model.add(Activation('relu'))\n",
    "model.add(Flatten())\n",
    "model.add(Dense(n_classes,activation='softmax'))"
   ]
  },
  {
   "cell_type": "code",
   "execution_count": 18,
   "metadata": {},
   "outputs": [],
   "source": [
    "#from keras.optimizers import SGD\n",
    "#sgd=SGD(lr=0.01, decay=1e-6, momentum=0.9, nesterov=True)\n",
    "#model.compile(loss='categorical_crossentropy',optimizer=sgd,metrics=['accuracy'])"
   ]
  },
  {
   "cell_type": "code",
   "execution_count": 19,
   "metadata": {},
   "outputs": [
    {
     "name": "stdout",
     "output_type": "stream",
     "text": [
      "Epoch 1/20\n",
      "60000/60000 [==============================] - 54s 907us/step - loss: 0.2973 - acc: 0.9145\n",
      "Epoch 2/20\n",
      "60000/60000 [==============================] - 54s 899us/step - loss: 0.2790 - acc: 0.9214\n",
      "Epoch 3/20\n",
      "60000/60000 [==============================] - 54s 896us/step - loss: 0.2713 - acc: 0.9239\n",
      "Epoch 4/20\n",
      "60000/60000 [==============================] - 55s 909us/step - loss: 0.2636 - acc: 0.9264\n",
      "Epoch 5/20\n",
      "60000/60000 [==============================] - 55s 914us/step - loss: 0.2548 - acc: 0.9282\n",
      "Epoch 6/20\n",
      "60000/60000 [==============================] - 56s 940us/step - loss: 0.2472 - acc: 0.9310\n",
      "Epoch 7/20\n",
      "60000/60000 [==============================] - 55s 910us/step - loss: 0.2370 - acc: 0.9334\n",
      "Epoch 8/20\n",
      "60000/60000 [==============================] - 55s 911us/step - loss: 0.2262 - acc: 0.9371\n",
      "Epoch 9/20\n",
      "60000/60000 [==============================] - 56s 937us/step - loss: 0.2189 - acc: 0.9385\n",
      "Epoch 10/20\n",
      "60000/60000 [==============================] - 56s 937us/step - loss: 0.2099 - acc: 0.9412\n",
      "Epoch 11/20\n",
      "60000/60000 [==============================] - 57s 946us/step - loss: 0.2052 - acc: 0.9417\n",
      "Epoch 12/20\n",
      "60000/60000 [==============================] - 56s 941us/step - loss: 0.1996 - acc: 0.9438\n",
      "Epoch 13/20\n",
      "60000/60000 [==============================] - 56s 934us/step - loss: 0.1941 - acc: 0.9444\n",
      "Epoch 14/20\n",
      "60000/60000 [==============================] - 56s 925us/step - loss: 0.1903 - acc: 0.9451\n",
      "Epoch 15/20\n",
      "60000/60000 [==============================] - 56s 926us/step - loss: 0.1862 - acc: 0.9464\n",
      "Epoch 16/20\n",
      "60000/60000 [==============================] - 55s 923us/step - loss: 0.1829 - acc: 0.9473\n",
      "Epoch 17/20\n",
      "60000/60000 [==============================] - 55s 918us/step - loss: 0.1788 - acc: 0.9487\n",
      "Epoch 18/20\n",
      "60000/60000 [==============================] - 54s 908us/step - loss: 0.1777 - acc: 0.9488\n",
      "Epoch 19/20\n",
      "60000/60000 [==============================] - 55s 920us/step - loss: 0.1734 - acc: 0.9498\n",
      "Epoch 20/20\n",
      "60000/60000 [==============================] - 56s 929us/step - loss: 0.1717 - acc: 0.9501\n"
     ]
    },
    {
     "data": {
      "text/plain": [
       "<keras.callbacks.History at 0x1b001ce55f8>"
      ]
     },
     "execution_count": 19,
     "metadata": {},
     "output_type": "execute_result"
    }
   ],
   "source": [
    "#model.fit(X_train,y_train,batch_size=128,epochs=20,verbose=1)"
   ]
  },
  {
   "cell_type": "code",
   "execution_count": 20,
   "metadata": {},
   "outputs": [
    {
     "name": "stdout",
     "output_type": "stream",
     "text": [
      "10000/10000 [==============================] - 3s 347us/step\n"
     ]
    },
    {
     "data": {
      "text/plain": [
       "[0.25720041396543386, 0.9332]"
      ]
     },
     "execution_count": 20,
     "metadata": {},
     "output_type": "execute_result"
    }
   ],
   "source": [
    "model.evaluate(X_test,y_test)"
   ]
  },
  {
   "cell_type": "code",
   "execution_count": 21,
   "metadata": {},
   "outputs": [],
   "source": [
    "from keras.models import load_model\n",
    "model.save('MLP_handwriteDigitsClassify.h5') #创建HDF5文件\n",
    "del model #删除现有模型"
   ]
  },
  {
   "cell_type": "code",
   "execution_count": 22,
   "metadata": {},
   "outputs": [],
   "source": [
    "model_load=load_model('MLP_handwriteDigitsClassify.h5')"
   ]
  },
  {
   "cell_type": "code",
   "execution_count": 23,
   "metadata": {},
   "outputs": [
    {
     "name": "stdout",
     "output_type": "stream",
     "text": [
      "60000/60000 [==============================] - 19s 323us/step\n"
     ]
    },
    {
     "data": {
      "text/plain": [
       "[0.15585209670960903, 0.9556166666666667]"
      ]
     },
     "execution_count": 23,
     "metadata": {},
     "output_type": "execute_result"
    }
   ],
   "source": [
    "model_load.evaluate(X_train,y_train)"
   ]
  },
  {
   "cell_type": "code",
   "execution_count": 24,
   "metadata": {},
   "outputs": [
    {
     "name": "stdout",
     "output_type": "stream",
     "text": [
      "10000/10000 [==============================] - 3s 324us/step\n"
     ]
    },
    {
     "data": {
      "text/plain": [
       "[0.25720041396543386, 0.9332]"
      ]
     },
     "execution_count": 24,
     "metadata": {},
     "output_type": "execute_result"
    }
   ],
   "source": [
    "model_load.evaluate(X_test,y_test)"
   ]
  },
  {
   "cell_type": "code",
   "execution_count": 25,
   "metadata": {},
   "outputs": [],
   "source": [
    "import cv2"
   ]
  },
  {
   "cell_type": "code",
   "execution_count": 26,
   "metadata": {},
   "outputs": [
    {
     "data": {
      "text/plain": [
       "'3.4.4'"
      ]
     },
     "execution_count": 26,
     "metadata": {},
     "output_type": "execute_result"
    }
   ],
   "source": [
    "cv2.__version__"
   ]
  },
  {
   "cell_type": "code",
   "execution_count": 29,
   "metadata": {},
   "outputs": [
    {
     "data": {
      "text/plain": [
       "<matplotlib.image.AxesImage at 0x1b0094acfd0>"
      ]
     },
     "execution_count": 29,
     "metadata": {},
     "output_type": "execute_result"
    },
    {
     "data": {
      "image/png": "[encoded data removed]",
      "text/plain": [
       "<Figure size 432x288 with 3 Axes>"
      ]
     },
     "metadata": {
      "needs_background": "light"
     },
     "output_type": "display_data"
    }
   ],
   "source": [
    "testImage_4=cv2.imread('./data/cv_sample_png/4.jpg')\n",
    "testImage_5=cv2.imread('./data/cv_sample_png/5.jpg')\n",
    "testImage_8=cv2.imread('./data/cv_sample_png/8.jpg')\n",
    "testImage_4_gray=cv2.cvtColor(testImage_4,cv2.COLOR_BGR2GRAY)\n",
    "plt.subplot(131)\n",
    "plt.imshow(testImage_4_gray,cmap='gray')\n",
    "\n",
    "testImage_5_gray=cv2.cvtColor(testImage_5,cv2.COLOR_BGR2GRAY)\n",
    "plt.subplot(132)\n",
    "plt.imshow(testImage_5_gray,cmap='gray')\n",
    "\n",
    "testImage_8_gray=cv2.cvtColor(testImage_8,cv2.COLOR_BGR2GRAY)\n",
    "plt.subplot(133)\n",
    "plt.imshow(testImage_8_gray,cmap='gray')"
   ]
  },
  {
   "cell_type": "code",
   "execution_count": 51,
   "metadata": {},
   "outputs": [
    {
     "name": "stdout",
     "output_type": "stream",
     "text": [
      "(1, 28, 28, 1)\n"
     ]
    }
   ],
   "source": [
    "testImage_4_gray=cv2.resize(testImage_4_gray,(28,28))\n",
    "testImage_4_input=testImage_4_gray.reshape(1,28,28,1)\n",
    "testImage_4_input=testImage_4_input.astype('float32')/255.0\n",
    "print(testImage_4_input.shape)\n",
    "testImage_5_gray=cv2.resize(testImage_5_gray,(28,28))\n",
    "testImage_5_input=testImage_5_gray.reshape(1,28,28,1)\n",
    "testImage_5_input=testImage_5_input.astype('float32')/255.0\n",
    "\n",
    "testImage_8_gray=cv2.resize(testImage_8_gray,(28,28))\n",
    "testImage_8_input=testImage_8_gray.reshape(1,28,28,1)\n",
    "testImage_8_input=testImage_8_input.astype('float32')/255.0"
   ]
  },
  {
   "cell_type": "code",
   "execution_count": 57,
   "metadata": {},
   "outputs": [
    {
     "name": "stdout",
     "output_type": "stream",
     "text": [
      "[[2.8433695e-09 3.7411659e-18 2.0676239e-08 1.4777010e-04 9.6146225e+01\n",
      "  2.6999154e-09 4.5637616e-06 2.2913866e-05 3.8536026e+00 4.9347536e-06]]\n"
     ]
    },
    {
     "data": {
      "text/plain": [
       "array([4], dtype=int64)"
      ]
     },
     "execution_count": 57,
     "metadata": {},
     "output_type": "execute_result"
    }
   ],
   "source": [
    "print(100*model_load.predict(testImage_4_input))\n",
    "model_load.predict_classes(testImage_4_input)"
   ]
  },
  {
   "cell_type": "code",
   "execution_count": 58,
   "metadata": {},
   "outputs": [
    {
     "name": "stdout",
     "output_type": "stream",
     "text": [
      "[[5.2776383e-10 3.8595103e-17 1.5109501e-10 2.0329988e+00 1.3786135e-08\n",
      "  9.7599159e+01 5.0286062e-06 2.0495331e-12 3.6784831e-01 1.4334305e-11]]\n"
     ]
    },
    {
     "data": {
      "text/plain": [
       "array([5], dtype=int64)"
      ]
     },
     "execution_count": 58,
     "metadata": {},
     "output_type": "execute_result"
    }
   ],
   "source": [
    "print(100*model_load.predict(testImage_5_input))\n",
    "model_load.predict_classes(testImage_5_input)"
   ]
  },
  {
   "cell_type": "code",
   "execution_count": 62,
   "metadata": {},
   "outputs": [
    {
     "name": "stdout",
     "output_type": "stream",
     "text": [
      "[[7.0262264e-12 5.1292360e-15 6.3485466e-04 1.8543743e-02 4.5686730e-07\n",
      "  1.4143178e-08 1.3764108e-04 1.0781409e-14 9.9980682e+01 1.9876739e-10]]\n"
     ]
    },
    {
     "data": {
      "text/plain": [
       "array([8], dtype=int64)"
      ]
     },
     "execution_count": 62,
     "metadata": {},
     "output_type": "execute_result"
    }
   ],
   "source": [
    "print(100*model_load.predict(testImage_8_input))\n",
    "model_load.predict_classes(testImage_8_input)"
   ]
  }
 ],
 "metadata": {
  "kernelspec": {
   "display_name": "Python 3",
   "language": "python",
   "name": "python3"
  },
  "language_info": {
   "codemirror_mode": {
    "name": "ipython",
    "version": 3
   },
   "file_extension": ".py",
   "mimetype": "text/x-python",
   "name": "python",
   "nbconvert_exporter": "python",
   "pygments_lexer": "ipython3",
   "version": "3.6.6"
  }
 },
 "nbformat": 4,
 "nbformat_minor": 2
}
